{
  "cells": [
    {
      "cell_type": "code",
      "execution_count": 27,
      "id": "7d8e3279",
      "metadata": {
        "id": "7d8e3279"
      },
      "outputs": [],
      "source": [
        "                    # MNIST data (digits from 0 to 9) classification with Fully-connected Deep Neural Networks\n",
        "# --- Importing the relevant libraries ---\n",
        "import numpy as np \n",
        "import pandas as pd \n",
        "import matplotlib.pyplot as plt \n",
        "import torch  \n",
        "import torch.nn as nn \n",
        "import torch.functional as F\n",
        "from torch.utils.data import DataLoader # Class - DataLoader\n",
        "import torchvision.datasets as datasets\n",
        "import torchvision.transforms as transforms"
      ]
    },
    {
      "cell_type": "code",
      "execution_count": 28,
      "id": "48ad205e",
      "metadata": {
        "id": "48ad205e"
      },
      "outputs": [],
      "source": [
        "# --- Retrieving the datasets ---  large database of handwritten digits\n",
        "mnist_training_set = datasets.MNIST(root = './data', train = True, download = True, transform = transforms.ToTensor())\n",
        "mnist_validation_set = datasets.MNIST(root = './data', train = False, download = True, transform = transforms.ToTensor())"
      ]
    },
    {
      "cell_type": "code",
      "execution_count": 29,
      "id": "0b65a017",
      "metadata": {
        "colab": {
          "base_uri": "https://localhost:8080/"
        },
        "id": "0b65a017",
        "outputId": "f834cfca-6703-4339-8045-9825dbc01e52"
      },
      "outputs": [
        {
          "output_type": "stream",
          "name": "stdout",
          "text": [
            "MNIST training_set = Dataset MNIST\n",
            "    Number of datapoints: 60000\n",
            "    Root location: ./data\n",
            "    Split: Train\n",
            "    StandardTransform\n",
            "Transform: ToTensor()\n",
            "\n",
            "MNIST validation_set = Dataset MNIST\n",
            "    Number of datapoints: 10000\n",
            "    Root location: ./data\n",
            "    Split: Test\n",
            "    StandardTransform\n",
            "Transform: ToTensor()\n",
            "\n",
            "Both training and validation MNIST datasets are the same = False\n"
          ]
        }
      ],
      "source": [
        "# --- Verifying what the retrieved datasets look like ---\n",
        "print(f'MNIST training_set = {mnist_training_set}')\n",
        "print(f'\\nMNIST validation_set = {mnist_validation_set}')\n",
        "print(f'\\nBoth training and validation MNIST datasets are the same = {mnist_training_set == mnist_validation_set}')"
      ]
    },
    {
      "cell_type": "code",
      "execution_count": 30,
      "id": "2fa871c7",
      "metadata": {
        "colab": {
          "base_uri": "https://localhost:8080/"
        },
        "id": "2fa871c7",
        "outputId": "f6bbd442-d0b2-43cf-d6b9-8fdeaf6cbe45"
      },
      "outputs": [
        {
          "output_type": "stream",
          "name": "stdout",
          "text": [
            "Training_set dimensions = torch.Size([60000, 28, 28])\n",
            "Validation_set dimensions = torch.Size([10000, 28, 28])\n",
            "\n",
            "Training_set info = <built-in method size of Tensor object at 0x7f34ec0f33d0>\n",
            "Validation_set info = <built-in method size of Tensor object at 0x7f34ec0f0630>\n",
            "\n",
            "Training_set matrices = tensor([[[0, 0, 0,  ..., 0, 0, 0],\n",
            "         [0, 0, 0,  ..., 0, 0, 0],\n",
            "         [0, 0, 0,  ..., 0, 0, 0],\n",
            "         ...,\n",
            "         [0, 0, 0,  ..., 0, 0, 0],\n",
            "         [0, 0, 0,  ..., 0, 0, 0],\n",
            "         [0, 0, 0,  ..., 0, 0, 0]],\n",
            "\n",
            "        [[0, 0, 0,  ..., 0, 0, 0],\n",
            "         [0, 0, 0,  ..., 0, 0, 0],\n",
            "         [0, 0, 0,  ..., 0, 0, 0],\n",
            "         ...,\n",
            "         [0, 0, 0,  ..., 0, 0, 0],\n",
            "         [0, 0, 0,  ..., 0, 0, 0],\n",
            "         [0, 0, 0,  ..., 0, 0, 0]],\n",
            "\n",
            "        [[0, 0, 0,  ..., 0, 0, 0],\n",
            "         [0, 0, 0,  ..., 0, 0, 0],\n",
            "         [0, 0, 0,  ..., 0, 0, 0],\n",
            "         ...,\n",
            "         [0, 0, 0,  ..., 0, 0, 0],\n",
            "         [0, 0, 0,  ..., 0, 0, 0],\n",
            "         [0, 0, 0,  ..., 0, 0, 0]],\n",
            "\n",
            "        ...,\n",
            "\n",
            "        [[0, 0, 0,  ..., 0, 0, 0],\n",
            "         [0, 0, 0,  ..., 0, 0, 0],\n",
            "         [0, 0, 0,  ..., 0, 0, 0],\n",
            "         ...,\n",
            "         [0, 0, 0,  ..., 0, 0, 0],\n",
            "         [0, 0, 0,  ..., 0, 0, 0],\n",
            "         [0, 0, 0,  ..., 0, 0, 0]],\n",
            "\n",
            "        [[0, 0, 0,  ..., 0, 0, 0],\n",
            "         [0, 0, 0,  ..., 0, 0, 0],\n",
            "         [0, 0, 0,  ..., 0, 0, 0],\n",
            "         ...,\n",
            "         [0, 0, 0,  ..., 0, 0, 0],\n",
            "         [0, 0, 0,  ..., 0, 0, 0],\n",
            "         [0, 0, 0,  ..., 0, 0, 0]],\n",
            "\n",
            "        [[0, 0, 0,  ..., 0, 0, 0],\n",
            "         [0, 0, 0,  ..., 0, 0, 0],\n",
            "         [0, 0, 0,  ..., 0, 0, 0],\n",
            "         ...,\n",
            "         [0, 0, 0,  ..., 0, 0, 0],\n",
            "         [0, 0, 0,  ..., 0, 0, 0],\n",
            "         [0, 0, 0,  ..., 0, 0, 0]]], dtype=torch.uint8)\n",
            "Validation_set matrices = tensor([[[0, 0, 0,  ..., 0, 0, 0],\n",
            "         [0, 0, 0,  ..., 0, 0, 0],\n",
            "         [0, 0, 0,  ..., 0, 0, 0],\n",
            "         ...,\n",
            "         [0, 0, 0,  ..., 0, 0, 0],\n",
            "         [0, 0, 0,  ..., 0, 0, 0],\n",
            "         [0, 0, 0,  ..., 0, 0, 0]],\n",
            "\n",
            "        [[0, 0, 0,  ..., 0, 0, 0],\n",
            "         [0, 0, 0,  ..., 0, 0, 0],\n",
            "         [0, 0, 0,  ..., 0, 0, 0],\n",
            "         ...,\n",
            "         [0, 0, 0,  ..., 0, 0, 0],\n",
            "         [0, 0, 0,  ..., 0, 0, 0],\n",
            "         [0, 0, 0,  ..., 0, 0, 0]],\n",
            "\n",
            "        [[0, 0, 0,  ..., 0, 0, 0],\n",
            "         [0, 0, 0,  ..., 0, 0, 0],\n",
            "         [0, 0, 0,  ..., 0, 0, 0],\n",
            "         ...,\n",
            "         [0, 0, 0,  ..., 0, 0, 0],\n",
            "         [0, 0, 0,  ..., 0, 0, 0],\n",
            "         [0, 0, 0,  ..., 0, 0, 0]],\n",
            "\n",
            "        ...,\n",
            "\n",
            "        [[0, 0, 0,  ..., 0, 0, 0],\n",
            "         [0, 0, 0,  ..., 0, 0, 0],\n",
            "         [0, 0, 0,  ..., 0, 0, 0],\n",
            "         ...,\n",
            "         [0, 0, 0,  ..., 0, 0, 0],\n",
            "         [0, 0, 0,  ..., 0, 0, 0],\n",
            "         [0, 0, 0,  ..., 0, 0, 0]],\n",
            "\n",
            "        [[0, 0, 0,  ..., 0, 0, 0],\n",
            "         [0, 0, 0,  ..., 0, 0, 0],\n",
            "         [0, 0, 0,  ..., 0, 0, 0],\n",
            "         ...,\n",
            "         [0, 0, 0,  ..., 0, 0, 0],\n",
            "         [0, 0, 0,  ..., 0, 0, 0],\n",
            "         [0, 0, 0,  ..., 0, 0, 0]],\n",
            "\n",
            "        [[0, 0, 0,  ..., 0, 0, 0],\n",
            "         [0, 0, 0,  ..., 0, 0, 0],\n",
            "         [0, 0, 0,  ..., 0, 0, 0],\n",
            "         ...,\n",
            "         [0, 0, 0,  ..., 0, 0, 0],\n",
            "         [0, 0, 0,  ..., 0, 0, 0],\n",
            "         [0, 0, 0,  ..., 0, 0, 0]]], dtype=torch.uint8)\n"
          ]
        }
      ],
      "source": [
        "# --- Verifying the dimensions and other useful information about the datasets ---\n",
        "print(f'Training_set dimensions = {mnist_training_set.data.shape}') # dimension of the training dataset\n",
        "print(f'Validation_set dimensions = {mnist_validation_set.data.shape}') # dimension of the validation dataset\n",
        "\n",
        "print(f'\\nTraining_set info = {mnist_training_set.data.size}') # method, type and address of the training_set object\n",
        "print(f'Validation_set info = {mnist_validation_set.data.size}') # method, type and address of the validation_set object\n",
        "\n",
        "print(f'\\nTraining_set matrices = {mnist_training_set.data}') # Showing the data of the training set as tensors (matrices)\n",
        "print(f'Validation_set matrices = {mnist_validation_set.data}') # Showing the data of the validation set as tensors (matrices)\n",
        "# plt.imshow(training_set[0])\n",
        "# plt.show()"
      ]
    },
    {
      "cell_type": "code",
      "execution_count": 31,
      "id": "6a7f7933",
      "metadata": {
        "id": "6a7f7933"
      },
      "outputs": [],
      "source": [
        "# --- Assigning the datasets to DataLoader objects in order to use them during the traing ---\n",
        "    # It allows to retrieve the data portions by assigning the batch size parameter\n",
        "\n",
        "# Initializing the train_loader and validation_loader objects, giving the datasets as parameter values\n",
        "train_loader = DataLoader(dataset = mnist_training_set, batch_size = 25) \n",
        "validation_loader = DataLoader(dataset = mnist_validation_set, batch_size = 10)"
      ]
    },
    {
      "cell_type": "code",
      "execution_count": 32,
      "id": "8627a46e",
      "metadata": {
        "colab": {
          "base_uri": "https://localhost:8080/"
        },
        "id": "8627a46e",
        "outputId": "de9894b2-a776-406d-d04d-1286c3ac7ceb"
      },
      "outputs": [
        {
          "output_type": "stream",
          "name": "stdout",
          "text": [
            "The size of the input : 784\n"
          ]
        }
      ],
      "source": [
        "# --- Creating a Module or a Class of the Model --- # Dropout regularization term can be omitted while using batch normalization and vice versa\n",
        "class DNN_MNIST(nn.Module):\n",
        "    # Constructor\n",
        "    def __init__(self, Layers, drop_probability = 0):\n",
        "        super(DNN_MNIST, self).__init__()\n",
        "        self.bn = []\n",
        "        self.drop = nn.Dropout(p = drop_probability)\n",
        "        self.hidden = nn.ModuleList()\n",
        "        for input_size, output_size in zip(Layers, Layers[1:]):\n",
        "            linear = nn.Linear(input_size, output_size)\n",
        "            torch.nn.init.kaiming_uniform_(linear.weight, nonlinearity = 'relu')\n",
        "            self.hidden.append(linear)\n",
        "            self.bn.append(nn.BatchNorm1d(output_size))\n",
        "            \n",
        "    # Prediction\n",
        "    def forward(self, x):\n",
        "        n_layers = len(self.hidden)\n",
        "        for (layer_index, linear_layer) in zip(range(n_layers), self.hidden):\n",
        "            if layer_index < n_layers - 1:\n",
        "                x = torch.relu(self.drop(self.bn[layer_index](linear_layer(x))))\n",
        "            else:\n",
        "                x = linear_layer(x)\n",
        "            \n",
        "        return x\n",
        "\n",
        "    \n",
        "first_input_size = mnist_training_set.data[0].shape[0] * mnist_training_set.data[0].shape[1]\n",
        "print(f\"The size of the input : {first_input_size}\")\n",
        "\n",
        "model = DNN_MNIST([first_input_size, 200, 500, 500, 400, 300, 50, 10], drop_probability = 0.2) # [first_input_size, 200, 500, 500, 400, 300, 50, 10] "
      ]
    },
    {
      "cell_type": "code",
      "execution_count": 33,
      "id": "16bce6aa",
      "metadata": {
        "id": "16bce6aa"
      },
      "outputs": [],
      "source": [
        "# --- Defining a function to train the model ---\n",
        "torch.manual_seed(1)\n",
        "\n",
        "def train(model, train_loader, validation_loader, criterion, optimizer, epochs):\n",
        "    loss_accuracy = {'training_loss' : [], 'validation_accuracy' : []}\n",
        "    Softmax = nn.Softmax(dim = -1)\n",
        "    for epoch in range(epochs):\n",
        "        # Training each epoch\n",
        "        model.train()\n",
        "        for x, y in train_loader:\n",
        "            optimizer.zero_grad()\n",
        "            yhat = model(x.view(-1, first_input_size))\n",
        "            loss = criterion(yhat, y)\n",
        "            loss_accuracy['training_loss'].append(loss.data.item())\n",
        "            loss.backward()\n",
        "            optimizer.step()\n",
        "            \n",
        "                         \n",
        "        # Validating the accuracy\n",
        "        model.eval()\n",
        "        correct = 0\n",
        "        for x, y in validation_loader:\n",
        "            yhat = model(x.view(-1, first_input_size))\n",
        "            _, label = torch.max(Softmax(yhat), 1)\n",
        "            correct += (label == y).sum().item()\n",
        "        accuracy = 100 * (correct / len(mnist_validation_set))\n",
        "        loss_accuracy['validation_accuracy'].append(accuracy) \n",
        "     \n",
        "    return loss_accuracy"
      ]
    },
    {
      "cell_type": "code",
      "execution_count": 34,
      "id": "eeb6e45f",
      "metadata": {
        "id": "eeb6e45f"
      },
      "outputs": [],
      "source": [
        "# --- Defining the Criterion, optimiser and epochs\n",
        "criterion = nn.CrossEntropyLoss()\n",
        "optimizer = torch.optim.SGD(model.parameters(), lr = 0.01, momentum = 0.9)\n",
        "epochs = 20"
      ]
    },
    {
      "cell_type": "code",
      "execution_count": 35,
      "id": "28c1094b",
      "metadata": {
        "id": "28c1094b"
      },
      "outputs": [],
      "source": [
        "# Start training the model\n",
        "training_results = train(model, train_loader, validation_loader, criterion, optimizer, epochs)"
      ]
    },
    {
      "cell_type": "code",
      "execution_count": 36,
      "id": "f1910ea5",
      "metadata": {
        "colab": {
          "base_uri": "https://localhost:8080/",
          "height": 881
        },
        "id": "f1910ea5",
        "outputId": "d94c532a-fca4-4e5c-aa54-c90ebeebc96c"
      },
      "outputs": [
        {
          "output_type": "display_data",
          "data": {
            "text/plain": [
              "<Figure size 640x480 with 1 Axes>"
            ],
            "image/png": "[encoded data removed]"
          },
          "metadata": {}
        },
        {
          "output_type": "display_data",
          "data": {
            "text/plain": [
              "<Figure size 640x480 with 1 Axes>"
            ],
            "image/png": "[encoded data removed]"
          },
          "metadata": {}
        }
      ],
      "source": [
        "# --- Plotting the training loss and validation accuracy ---\n",
        "x_axis = range(len(training_results['training_loss']))\n",
        "plt.plot(x_axis, training_results['training_loss'], label='Cost')\n",
        "plt.ylabel('Cost')\n",
        "plt.xlabel('iterations ')   \n",
        "plt.legend()\n",
        "plt.show()\n",
        "\n",
        "x_axis = range(len(training_results['validation_accuracy']))\n",
        "plt.plot(x_axis, training_results['validation_accuracy'], label='Accuracy')\n",
        "plt.ylabel('Accuracy')\n",
        "plt.xlabel('epochs')   \n",
        "plt.legend()\n",
        "plt.show()\n"
      ]
    },
    {
      "cell_type": "code",
      "execution_count": null,
      "id": "364de93b",
      "metadata": {
        "id": "364de93b"
      },
      "outputs": [],
      "source": []
    },
    {
      "cell_type": "code",
      "execution_count": null,
      "id": "d6d6cd91",
      "metadata": {
        "id": "d6d6cd91"
      },
      "outputs": [],
      "source": []
    }
  ],
  "metadata": {
    "kernelspec": {
      "display_name": "Python 3 (ipykernel)",
      "language": "python",
      "name": "python3"
    },
    "language_info": {
      "codemirror_mode": {
        "name": "ipython",
        "version": 3
      },
      "file_extension": ".py",
      "mimetype": "text/x-python",
      "name": "python",
      "nbconvert_exporter": "python",
      "pygments_lexer": "ipython3",
      "version": "3.10.4"
    },
    "colab": {
      "provenance": []
    }
  },
  "nbformat": 4,
  "nbformat_minor": 5
}